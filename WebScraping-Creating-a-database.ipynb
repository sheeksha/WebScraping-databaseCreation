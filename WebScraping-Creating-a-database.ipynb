{
 "cells": [
  {
   "cell_type": "markdown",
   "id": "ca973fda-631d-4ee4-8355-ca22ee4269e9",
   "metadata": {},
   "source": [
    "Table of Content\r\n",
    "1. Import Libraries\r\n",
    "2. Get the HTML content and extract information\r\n",
    "3. Define the file path to save the JSON data - Product\r\n",
    "4. Resize images\r\n",
    "5. Define the file path to save the JSON data - Product Category"
   ]
  },
  {
   "cell_type": "markdown",
   "id": "e37ab44a-55e6-4831-8f1d-98565768042a",
   "metadata": {},
   "source": [
    "# 1. Import Libraries"
   ]
  },
  {
   "cell_type": "code",
   "execution_count": 1,
   "id": "37a47ee7-dd8b-4034-843c-481187d32f4a",
   "metadata": {},
   "outputs": [],
   "source": [
    "from bs4 import BeautifulSoup\n",
    "import requests\n",
    "import json\n",
    "import os\n",
    "import html\n",
    "from PIL import Image"
   ]
  },
  {
   "cell_type": "markdown",
   "id": "63f6db19-60b7-4f6d-86fd-65ec73d14476",
   "metadata": {},
   "source": [
    "# 2. Get the HTML content and extract information"
   ]
  },
  {
   "cell_type": "code",
   "execution_count": 6,
   "id": "8d92afc0-0608-4b16-ac1c-dd93de15ec57",
   "metadata": {},
   "outputs": [],
   "source": [
    "html_text = requests.get('https://innodis.mu/innodis/pages/modules/product/allproducts.php').text\n",
    "\n",
    "soup = BeautifulSoup(html_text, 'html.parser')\n",
    "\n",
    "products = soup.find_all('figure')"
   ]
  },
  {
   "cell_type": "markdown",
   "id": "49f6a232-12aa-4a3c-b5d8-3019d3482c9f",
   "metadata": {},
   "source": [
    "# 3. Define the file path to save the JSON data - Product"
   ]
  },
  {
   "cell_type": "code",
   "execution_count": 7,
   "id": "45f3483b-4581-419b-8e87-2163c869836b",
   "metadata": {},
   "outputs": [],
   "source": [
    "file_path_json = 'C:/Users/MRT/DataAnalystProjects/innodis/product_innodis.json'\n",
    "\n",
    "existing_data = []\n",
    "\n",
    "if os.path.exists(file_path_json) and os.path.getsize(file_path_json) > 0:\n",
    "   # Load existing data from the JSON file, if it exists and is not empty\n",
    "   with open(file_path_json, 'r') as file:\n",
    "       existing_data = json.load(file)"
   ]
  },
  {
   "cell_type": "code",
   "execution_count": null,
   "id": "ae5b6405-876d-4cf8-b39d-37ef910b154e",
   "metadata": {},
   "outputs": [],
   "source": [
    "for product in products:\n",
    "        \n",
    "    product_id = product.find('input', class_ = 'form-control')['value']\n",
    "    product_name = html.unescape(product.span.text)\n",
    "    product_category = product.find('input', id = 'category02'+product_id)['value']\n",
    "    product_img_url = product.find('img', class_ = 'content-image')['src']\n",
    "    product_img = \"static/products/\"+product_id+\".jpg\"\n",
    "    product_price_string = (product.strong.text.split()[-1].replace(\",\",\"\"))\n",
    "    \n",
    "    if product_price_string == \"******\":\n",
    "       product_price = 0.00\n",
    "    else:\n",
    "       product_price = (format(float(product_price_string), \".2f\"))\n",
    "\n",
    "    # Define the local file path to save the image\n",
    "    file_path = 'C:/Users/MRT/DataAnalystProjects/innodis/products/'+product_id+'.jpg'\n",
    "    \n",
    "    # Send an HTTP request to the image URL and save the response content to the file\n",
    "    response = requests.get(product_img_url)\n",
    "    if response.status_code == 200:\n",
    "       with open(file_path, 'wb') as file:\n",
    "           file.write(response.content)\n",
    "           print(\"Image downloaded successfully.\")\n",
    "    else:\n",
    "       print(\"Failed to download the image.\")\n",
    "\n",
    "    data = {\n",
    "       \"model\": \"shop.product\",\n",
    "       \"pk\": int(product_id),\n",
    "       \"fields\": {\n",
    "           \"name\": product_name,\n",
    "           \"category\": int(product_category),\n",
    "           \"business\": \"Innodis\",\n",
    "           \"display\": False,\n",
    "           \"description\": \"\",\n",
    "           \"price\": product_price,\n",
    "           \"img\": product_img,\n",
    "           \"prompt_texts\": \"\"\n",
    "       },\n",
    "   }\n",
    "\n",
    "    # Append the new product data to the existing data\n",
    "    existing_data.append(data)\n",
    "\n",
    "    # Save the updated data to the JSON file\n",
    "    with open(file_path_json, 'w') as file:\n",
    "       json.dump(existing_data, file, indent=4)\n",
    "\n",
    "    # print(f\"Product with ID {product_id} inserted into product_innodis.json.\")\n",
    "\n",
    "print(\"All product data inserted into product_innodis.json.\")"
   ]
  },
  {
   "cell_type": "markdown",
   "id": "1b5f6b30-7f27-4bc8-a3a2-15a862695f10",
   "metadata": {},
   "source": [
    "# 4. Resize images"
   ]
  },
  {
   "cell_type": "code",
   "execution_count": 15,
   "id": "dc3fd0a6-f030-42e8-a9c3-90b406190570",
   "metadata": {},
   "outputs": [],
   "source": [
    "extensions = ['jpg', 'jpeg', 'png']\n",
    "files = os.listdir(\"C:/Users/MRT/DataAnalystProjects/innodis/products/\")\n",
    "\n",
    "for file in files:\n",
    "   ext = file.split(\".\")[-1]\n",
    "   filename = file.split(\".\")[0]\n",
    "   # print(ext)\n",
    "   if ext in extensions:\n",
    "       try:\n",
    "           im = Image.open(\"C:/Users/MRT/DataAnalystProjects/innodis/products/\"+file)\n",
    "           im_resized = im.resize((200,200))\n",
    "           filepath = f\"C:/Users/MRT/DataAnalystProjects/innodis/products_resized/{filename}-200-200.{ext}\"\n",
    "           im_resized.save(filepath)\n",
    "       except OSError as e:\n",
    "           print(f\"Error processing file: {file}. Reason: {e}\")"
   ]
  },
  {
   "cell_type": "markdown",
   "id": "960238cd-eb84-4f3b-aa2c-8efb9478ad1c",
   "metadata": {},
   "source": [
    "# 5. Define the file path to save the JSON data - Product Category"
   ]
  },
  {
   "cell_type": "code",
   "execution_count": null,
   "id": "73b3f5f7-eea6-4c23-85ce-d87b4df8134e",
   "metadata": {},
   "outputs": [],
   "source": [
    "categories = soup.find_all('li', class_ = 'dropdown')\n",
    "\n",
    "# Define the file path to save the JSON data\n",
    "file_path_json = 'C:/Users/MRT/DataAnalystProjects/innodis/product_category_innodis.json'\n",
    "\n",
    "existing_data = []\n",
    "\n",
    "if os.path.exists(file_path_json) and os.path.getsize(file_path_json) > 0:\n",
    "   # Load existing data from the JSON file, if it exists and is not empty\n",
    "   with open(file_path_json, 'r') as file:\n",
    "       existing_data = json.load(file)\n",
    "\n",
    "for category in categories:  \n",
    "   category_name = category.text.replace('\\n',\"\")\n",
    "  \n",
    "   category_a = category.a\n",
    "   if category_a:\n",
    "       category_url = category.a['href']     \n",
    "   else:\n",
    "       print(\"No 'a' tag found for category:\", category_name)\n",
    "\n",
    "   if category_url and 'id=' in category_url:\n",
    "       category_id = category_url.split('=')[-1]\n",
    "       \n",
    "       data = {\n",
    "           \"model\": \"shop.productcategory\",\n",
    "           \"pk\": int(category_id),\n",
    "           \"fields\": {\n",
    "               \"name\": category_name,\n",
    "               \"parent\": \"null\",\n",
    "               \"description\": \"\",\n",
    "               \"display\": False,\n",
    "               \"img\": \"/static/products/blank.png\",\n",
    "               \"business\": 10,\n",
    "               \"business_only\": True,\n",
    "               \"prompt_texts\": \"\"\n",
    "           },\n",
    "       }\n",
    "       \n",
    "       # Append the new product data to the existing data\n",
    "       existing_data.append(data)\n",
    "\n",
    "       # Save the updated data to the JSON file\n",
    "       with open(file_path_json, 'w') as file:\n",
    "           json.dump(existing_data, file, indent=4)\n",
    "\n",
    "       # print(f\"category with ID {category_id} inserted into product_innodis.json.\")\n",
    "\n",
    "   print(\"All category data inserted into product_category_innodis.json.\")"
   ]
  },
  {
   "cell_type": "code",
   "execution_count": null,
   "id": "d9ddf41c-38e4-4d1b-b45c-b7c2d401bcb3",
   "metadata": {},
   "outputs": [],
   "source": []
  }
 ],
 "metadata": {
  "kernelspec": {
   "display_name": "Python 3 (ipykernel)",
   "language": "python",
   "name": "python3"
  },
  "language_info": {
   "codemirror_mode": {
    "name": "ipython",
    "version": 3
   },
   "file_extension": ".py",
   "mimetype": "text/x-python",
   "name": "python",
   "nbconvert_exporter": "python",
   "pygments_lexer": "ipython3",
   "version": "3.11.5"
  }
 },
 "nbformat": 4,
 "nbformat_minor": 5
}
